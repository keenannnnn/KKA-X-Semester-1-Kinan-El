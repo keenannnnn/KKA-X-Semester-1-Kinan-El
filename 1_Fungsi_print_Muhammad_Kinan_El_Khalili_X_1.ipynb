{
  "nbformat": 4,
  "nbformat_minor": 0,
  "metadata": {
    "colab": {
      "provenance": [],
      "authorship_tag": "ABX9TyNKypaTMFWVe5xqUBOo8Z29",
      "include_colab_link": true
    },
    "kernelspec": {
      "name": "python3",
      "display_name": "Python 3"
    },
    "language_info": {
      "name": "python"
    }
  },
  "cells": [
    {
      "cell_type": "markdown",
      "metadata": {
        "id": "view-in-github",
        "colab_type": "text"
      },
      "source": [
        "<a href=\"https://colab.research.google.com/github/keenannnnn/KKA-X-Semester-1-Kinan-El/blob/main/1_Fungsi_print_Muhammad_Kinan_El_Khalili_X_1.ipynb\" target=\"_parent\"><img src=\"https://colab.research.google.com/assets/colab-badge.svg\" alt=\"Open In Colab\"/></a>"
      ]
    },
    {
      "cell_type": "markdown",
      "source": [
        "Data diri\n",
        "Muhammad Kinan El Khalili\n",
        "X-1"
      ],
      "metadata": {
        "id": "a9pU0-oU1sup"
      }
    },
    {
      "cell_type": "markdown",
      "source": [
        "#Menampilkan Teks Bebas"
      ],
      "metadata": {
        "id": "XN8NRNif2DVO"
      }
    },
    {
      "cell_type": "code",
      "source": [
        "nama = \"Muhammad Kinan El Khalili\"\n",
        "print(nama)"
      ],
      "metadata": {
        "colab": {
          "base_uri": "https://localhost:8080/"
        },
        "id": "IVOAVtlg7fn2",
        "outputId": "714a9bf6-0e7b-472c-8cc5-ab69c94b2895"
      },
      "execution_count": null,
      "outputs": [
        {
          "output_type": "stream",
          "name": "stdout",
          "text": [
            "Muhammad Kinan El Khalili\n"
          ]
        }
      ]
    },
    {
      "cell_type": "markdown",
      "source": [
        "#Menampilkan Nilai Variabel"
      ],
      "metadata": {
        "id": "arSXbkvl8j2e"
      }
    },
    {
      "cell_type": "code",
      "source": [
        "nama_saudara = \"Abyan El Kareem\"\n",
        "jumlah_saudara = 3\n",
        "print(nama_saudara)\n",
        "print(jumlah_saudara)"
      ],
      "metadata": {
        "colab": {
          "base_uri": "https://localhost:8080/"
        },
        "id": "eu2LySVr8tBr",
        "outputId": "200a1e5c-2c5e-43ee-979c-59ed4f1b27a1"
      },
      "execution_count": null,
      "outputs": [
        {
          "output_type": "stream",
          "name": "stdout",
          "text": [
            "Abyan El Kareem\n",
            "3\n"
          ]
        }
      ]
    },
    {
      "cell_type": "markdown",
      "source": [
        "#Menampilkan Variabel dan String"
      ],
      "metadata": {
        "id": "B5aoQc912gIU"
      }
    },
    {
      "cell_type": "code",
      "source": [
        "print(\"Nama saudara saya adalah\",nama_saudara,\". dan saya memiliki \",jumlah_saudara,\" saudara.\")"
      ],
      "metadata": {
        "colab": {
          "base_uri": "https://localhost:8080/"
        },
        "id": "9WTDKUXu3oqB",
        "outputId": "f82ad8f6-edc4-40f9-a576-2278ae1c157f"
      },
      "execution_count": null,
      "outputs": [
        {
          "output_type": "stream",
          "name": "stdout",
          "text": [
            "Nama saudara saya adalah Abyan El Kareem . dan saya memiliki  3  saudara.\n"
          ]
        }
      ]
    },
    {
      "cell_type": "code",
      "source": [
        "print(\"Nama saudara saya adalah \"+nama_saudara+\". dan saya memiliki \"+str(jumlah_saudara)+\" saudara.\")"
      ],
      "metadata": {
        "colab": {
          "base_uri": "https://localhost:8080/"
        },
        "id": "9gfenOpB3pAJ",
        "outputId": "eb850ab8-d045-4a82-a50a-75be53a0fbd3"
      },
      "execution_count": null,
      "outputs": [
        {
          "output_type": "stream",
          "name": "stdout",
          "text": [
            "Nama saudara saya adalah Abyan El Kareem. dan saya memiliki 3 saudara.\n"
          ]
        }
      ]
    },
    {
      "cell_type": "code",
      "source": [
        "print(f\"Nama saudara saya adalah {nama_saudara}. dan saya memiliki {jumlah_saudara} saudara.\")"
      ],
      "metadata": {
        "colab": {
          "base_uri": "https://localhost:8080/"
        },
        "id": "kEZC2L9b2k9A",
        "outputId": "1d56fe03-2d91-4448-f755-45eab6cb707e"
      },
      "execution_count": null,
      "outputs": [
        {
          "output_type": "stream",
          "name": "stdout",
          "text": [
            "Nama saudara saya adalah Abyan El Kareem. dan saya memiliki 3 saudara.\n"
          ]
        }
      ]
    },
    {
      "cell_type": "markdown",
      "source": [
        "#Escape String"
      ],
      "metadata": {
        "id": "05t4Rh4I9fza"
      }
    },
    {
      "cell_type": "code",
      "source": [
        "print(\"Nama: Kinan El\")\n",
        "print(\"Kelas: X.1\")\n",
        "print(\"No. Absen: 20\")"
      ],
      "metadata": {
        "colab": {
          "base_uri": "https://localhost:8080/"
        },
        "id": "Ymdw_wmm9h15",
        "outputId": "f3641b18-5c2c-4d7e-c1bd-4ea72cdb23ce"
      },
      "execution_count": null,
      "outputs": [
        {
          "output_type": "stream",
          "name": "stdout",
          "text": [
            "Nama: Kinan El\n",
            "Kelas: X.1\n",
            "No. Absen: 20\n"
          ]
        }
      ]
    },
    {
      "cell_type": "code",
      "source": [
        "print(\"Nama: Kinan El\\nKelas: X.1\\nNo. Absen: 20\")"
      ],
      "metadata": {
        "colab": {
          "base_uri": "https://localhost:8080/"
        },
        "id": "b6WLsUQ99s0f",
        "outputId": "8de40064-a685-4c07-a02e-c3aa050ec015"
      },
      "execution_count": null,
      "outputs": [
        {
          "output_type": "stream",
          "name": "stdout",
          "text": [
            "Nama: Kinan El\n",
            "Kelas: X.1\n",
            "No. Absen: 20\n"
          ]
        }
      ]
    },
    {
      "cell_type": "code",
      "source": [
        "print(\"\"\"Nama\\t\\t: Kinan El\n",
        "Kelas\\t\\t: X.1\n",
        "No. Absen\\t: 20\"\"\")"
      ],
      "metadata": {
        "colab": {
          "base_uri": "https://localhost:8080/"
        },
        "id": "Qy94rLbX94-4",
        "outputId": "e05fed5b-3299-4454-fa1e-f6aab6445b4c"
      },
      "execution_count": null,
      "outputs": [
        {
          "output_type": "stream",
          "name": "stdout",
          "text": [
            "Nama\t\t: Kinan El\n",
            "Kelas\t\t: X.1\n",
            "No. Absen\t: 20\n"
          ]
        }
      ]
    },
    {
      "cell_type": "code",
      "source": [
        "print('Halo Nama Saya Habib Jafar')"
      ],
      "metadata": {
        "colab": {
          "base_uri": "https://localhost:8080/"
        },
        "id": "xlOYJo-ihrVa",
        "outputId": "32d5136f-b3dc-48ef-90b1-70776b1ef1af"
      },
      "execution_count": null,
      "outputs": [
        {
          "output_type": "stream",
          "name": "stdout",
          "text": [
            "Halo Nama Saya Habib Jafar\n"
          ]
        }
      ]
    },
    {
      "cell_type": "code",
      "source": [
        "print(\"Halo Nama Saya Habib Jafar\")"
      ],
      "metadata": {
        "colab": {
          "base_uri": "https://localhost:8080/"
        },
        "id": "TiAzbicthruA",
        "outputId": "865320f3-ef95-42a2-aaf9-d657d51b61c4"
      },
      "execution_count": null,
      "outputs": [
        {
          "output_type": "stream",
          "name": "stdout",
          "text": [
            "Halo Nama Saya Habib Jafar\n"
          ]
        }
      ]
    },
    {
      "cell_type": "code",
      "source": [
        "print('Halo Nama Saya Habib Ja\\'far')"
      ],
      "metadata": {
        "colab": {
          "base_uri": "https://localhost:8080/"
        },
        "id": "TmhAmASfh4fB",
        "outputId": "d4d239fb-c568-47cb-e2a7-30cbddb80756"
      },
      "execution_count": null,
      "outputs": [
        {
          "output_type": "stream",
          "name": "stdout",
          "text": [
            "Halo Nama Saya Habib Ja'far\n"
          ]
        }
      ]
    },
    {
      "cell_type": "code",
      "source": [
        "print(\"Bu Shinta Berkata, \\\"Tolong Fokus Ke TV Sejenak.\\\"\")"
      ],
      "metadata": {
        "colab": {
          "base_uri": "https://localhost:8080/"
        },
        "id": "NkngWZZhiMvn",
        "outputId": "10c883be-fd36-423a-d0e0-805170c95de6"
      },
      "execution_count": null,
      "outputs": [
        {
          "output_type": "stream",
          "name": "stdout",
          "text": [
            "Bu Shinta Berkata, \"Tolong Fokus Ke TV Sejenak.\"\n"
          ]
        }
      ]
    },
    {
      "cell_type": "code",
      "source": [
        "print('Bu Shinta Berkata, \"Tolong Fokus Ke TV Sejenak.\"')"
      ],
      "metadata": {
        "colab": {
          "base_uri": "https://localhost:8080/"
        },
        "id": "DSmQyrlRiaiD",
        "outputId": "d1a87e82-9c63-40c9-b65d-0cf22661b9d5"
      },
      "execution_count": null,
      "outputs": [
        {
          "output_type": "stream",
          "name": "stdout",
          "text": [
            "Bu Shinta Berkata, \"Tolong Fokus Ke TV Sejenak.\"\n"
          ]
        }
      ]
    },
    {
      "cell_type": "code",
      "source": [
        "print(\"Silahkan simpan file tugas KKA di folder Local Disk D:\\\\MAN DEMAK\\\\KKA\\\\TUGAS\")"
      ],
      "metadata": {
        "colab": {
          "base_uri": "https://localhost:8080/"
        },
        "id": "-kr2GOBuilM7",
        "outputId": "8105c4aa-547c-4a7a-b9d0-5664d4120e48"
      },
      "execution_count": null,
      "outputs": [
        {
          "output_type": "stream",
          "name": "stdout",
          "text": [
            "Silahkan simpan file tugas KKA di folder Local Disk D:\\MAN DEMAK\\KKA\\TUGAS\n"
          ]
        }
      ]
    },
    {
      "cell_type": "code",
      "source": [
        "print('Bu Shinta Berkata, \"Berikut adalah daftar piket harian kelas X.2 yang disimpan di file D:\\\\Man Demak\\\\Jadwal Piket.')\n",
        "print(\"\\n\")\n",
        "print(\"Senin\\tSelasa\\tRabu\")\n",
        "print(\"Jielo\\tHasbi\\tNaufal\")\n",
        "print(\"Azam\\tA'inun\\tNurul\")"
      ],
      "metadata": {
        "colab": {
          "base_uri": "https://localhost:8080/"
        },
        "id": "ezYFNqPMi0fU",
        "outputId": "a9597734-dadf-4c5e-e6db-79a0f82b61ac"
      },
      "execution_count": null,
      "outputs": [
        {
          "output_type": "stream",
          "name": "stdout",
          "text": [
            "Bu Shinta Berkata, \"Berikut adalah daftar piket harian kelas X.2 yang disimpan di file D:\\Man Demak\\Jadwal Piket.\n",
            "\n",
            "\n",
            "Senin\tSelasa\tRabu\n",
            "Jielo\tHasbi\tNaufal\n",
            "Azam\tA'inun\tNurul\n",
            "\"\"\"\n"
          ]
        }
      ]
    },
    {
      "cell_type": "markdown",
      "source": [
        "#Parameter Fungsi Print"
      ],
      "metadata": {
        "id": "tXp-gQbgpBiC"
      }
    },
    {
      "cell_type": "code",
      "source": [
        "nama_siswa_1 = \"Dias\"\n",
        "nama_siswa_2 = \"Nur\"\n",
        "\n",
        "print(nama_siswa_1, end=\" \")\n",
        "print(nama_siswa_2)"
      ],
      "metadata": {
        "colab": {
          "base_uri": "https://localhost:8080/"
        },
        "id": "g8JbMD_OpEpb",
        "outputId": "7181d793-fdfe-4418-aa5a-37bbd288dd29"
      },
      "execution_count": null,
      "outputs": [
        {
          "output_type": "stream",
          "name": "stdout",
          "text": [
            "Dias Nur\n"
          ]
        }
      ]
    },
    {
      "cell_type": "code",
      "source": [
        "print(nama_siswa_1, nama_siswa_2)"
      ],
      "metadata": {
        "colab": {
          "base_uri": "https://localhost:8080/"
        },
        "id": "hzNKlKTKpt3O",
        "outputId": "91993cf6-525e-46f9-f834-a32bbc08d8c8"
      },
      "execution_count": null,
      "outputs": [
        {
          "output_type": "stream",
          "name": "stdout",
          "text": [
            "Dias Nur\n"
          ]
        }
      ]
    },
    {
      "cell_type": "code",
      "source": [
        "print(nama_siswa_1, nama_siswa_2, sep=\"-\")"
      ],
      "metadata": {
        "colab": {
          "base_uri": "https://localhost:8080/"
        },
        "id": "gqxmPTqFp3ja",
        "outputId": "5d453c65-0f85-4e98-f8bc-2873e77577bb"
      },
      "execution_count": null,
      "outputs": [
        {
          "output_type": "stream",
          "name": "stdout",
          "text": [
            "Dias-Nur\n"
          ]
        }
      ]
    },
    {
      "cell_type": "code",
      "source": [
        "nama_siswa_3 = \"Kinan\"\n",
        "nama_siswa_4 = \"Azka\"\n",
        "nama_siswa_5 = \"Naufal\"\n",
        "nama_siswa_6 = \"Ridho\"\n",
        "print(nama_siswa_6, nama_siswa_3, nama_siswa_5, nama_siswa_4, nama_siswa_4, sep=\"/\")"
      ],
      "metadata": {
        "colab": {
          "base_uri": "https://localhost:8080/"
        },
        "id": "Avv3izFsp6_G",
        "outputId": "daede4af-fa7d-4e87-8cfa-cbbc8f361298"
      },
      "execution_count": null,
      "outputs": [
        {
          "output_type": "stream",
          "name": "stdout",
          "text": [
            "Ridho/Kinan/Naufal/Azka/Azka\n"
          ]
        }
      ]
    },
    {
      "cell_type": "code",
      "source": [
        "print(nama_siswa_4, end=\"*\")\n",
        "print(nama_siswa_4, end=\"*\")\n",
        "print(nama_siswa_5, end=\"*\")\n",
        "print(nama_siswa_3, end=\"*\")\n",
        "print(nama_siswa_6)"
      ],
      "metadata": {
        "colab": {
          "base_uri": "https://localhost:8080/"
        },
        "id": "OB_NtBC_rFOc",
        "outputId": "b55b5fb9-53fa-40de-8a49-391699e0b641"
      },
      "execution_count": null,
      "outputs": [
        {
          "output_type": "stream",
          "name": "stdout",
          "text": [
            "Azka*Azka*Naufal*Kinan*Ridho\n"
          ]
        }
      ]
    }
  ]
}